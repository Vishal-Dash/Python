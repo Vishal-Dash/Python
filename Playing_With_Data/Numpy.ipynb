{
 "cells": [
  {
   "cell_type": "markdown",
   "metadata": {},
   "source": [
    "# NUM NUM.... NUMPYYY"
   ]
  },
  {
   "cell_type": "code",
   "execution_count": 2,
   "metadata": {},
   "outputs": [],
   "source": [
    "import numpy as np"
   ]
  },
  {
   "cell_type": "markdown",
   "metadata": {},
   "source": [
    "Know the version of numpy"
   ]
  },
  {
   "cell_type": "code",
   "execution_count": 3,
   "metadata": {},
   "outputs": [
    {
     "name": "stdout",
     "output_type": "stream",
     "text": [
      "1.16.1\n"
     ]
    }
   ],
   "source": [
    "print(np.__version__)"
   ]
  },
  {
   "cell_type": "markdown",
   "metadata": {},
   "source": [
    "Lets create an array of size 10 containing only ZEROS"
   ]
  },
  {
   "cell_type": "code",
   "execution_count": 4,
   "metadata": {},
   "outputs": [
    {
     "name": "stdout",
     "output_type": "stream",
     "text": [
      "[0 0 0 0 0 0 0 0 0 0]\n",
      "[0 0 0 0 0 0 0 0 0 0]\n",
      "[0 0 0 0 0 0 0 0 0 0]\n",
      "[0 0 0 0 0 0 0 0 0 0]\n",
      "Type:  <class 'numpy.ndarray'>\n",
      "Numpy datatype:  int32\n"
     ]
    }
   ],
   "source": [
    "# KIDS\n",
    "x = [0, 0, 0, 0, 0, 0, 0, 0, 0, 0]\n",
    "x = np.array(x)\n",
    "print(x)\n",
    "\n",
    "# MEN\n",
    "x = []\n",
    "for _ in range(10):\n",
    "    x.append(0)\n",
    "x = np.array(x)\n",
    "print(x)\n",
    "\n",
    "# LEGENDS\n",
    "x = [0 for x in range(10)]\n",
    "x = np.array(x)\n",
    "print(x)\n",
    "\n",
    "# ULTRA LEGENDS\n",
    "x = np.zeros(10, dtype='int')\n",
    "print(x)\n",
    "print(\"Type: \", type(x))\n",
    "print(\"Numpy datatype: \", x.dtype)"
   ]
  },
  {
   "cell_type": "markdown",
   "metadata": {},
   "source": [
    "Say you wanna learn some more about a method don't afraid to ask Mr.np"
   ]
  },
  {
   "cell_type": "code",
   "execution_count": 5,
   "metadata": {},
   "outputs": [
    {
     "name": "stdout",
     "output_type": "stream",
     "text": [
      "dot(a, b, out=None)\n",
      "\n",
      "Dot product of two arrays. Specifically,\n",
      "\n",
      "- If both `a` and `b` are 1-D arrays, it is inner product of vectors\n",
      "  (without complex conjugation).\n",
      "\n",
      "- If both `a` and `b` are 2-D arrays, it is matrix multiplication,\n",
      "  but using :func:`matmul` or ``a @ b`` is preferred.\n",
      "\n",
      "- If either `a` or `b` is 0-D (scalar), it is equivalent to :func:`multiply`\n",
      "  and using ``numpy.multiply(a, b)`` or ``a * b`` is preferred.\n",
      "\n",
      "- If `a` is an N-D array and `b` is a 1-D array, it is a sum product over\n",
      "  the last axis of `a` and `b`.\n",
      "\n",
      "- If `a` is an N-D array and `b` is an M-D array (where ``M>=2``), it is a\n",
      "  sum product over the last axis of `a` and the second-to-last axis of `b`::\n",
      "\n",
      "    dot(a, b)[i,j,k,m] = sum(a[i,j,:] * b[k,:,m])\n",
      "\n",
      "Parameters\n",
      "----------\n",
      "a : array_like\n",
      "    First argument.\n",
      "b : array_like\n",
      "    Second argument.\n",
      "out : ndarray, optional\n",
      "    Output argument. This must have the exact kind that would be returned\n",
      "    if it was not used. In particular, it must have the right type, must be\n",
      "    C-contiguous, and its dtype must be the dtype that would be returned\n",
      "    for `dot(a,b)`. This is a performance feature. Therefore, if these\n",
      "    conditions are not met, an exception is raised, instead of attempting\n",
      "    to be flexible.\n",
      "\n",
      "Returns\n",
      "-------\n",
      "output : ndarray\n",
      "    Returns the dot product of `a` and `b`.  If `a` and `b` are both\n",
      "    scalars or both 1-D arrays then a scalar is returned; otherwise\n",
      "    an array is returned.\n",
      "    If `out` is given, then it is returned.\n",
      "\n",
      "Raises\n",
      "------\n",
      "ValueError\n",
      "    If the last dimension of `a` is not the same size as\n",
      "    the second-to-last dimension of `b`.\n",
      "\n",
      "See Also\n",
      "--------\n",
      "vdot : Complex-conjugating dot product.\n",
      "tensordot : Sum products over arbitrary axes.\n",
      "einsum : Einstein summation convention.\n",
      "matmul : '@' operator as method with out parameter.\n",
      "\n",
      "Examples\n",
      "--------\n",
      ">>> np.dot(3, 4)\n",
      "12\n",
      "\n",
      "Neither argument is complex-conjugated:\n",
      "\n",
      ">>> np.dot([2j, 3j], [2j, 3j])\n",
      "(-13+0j)\n",
      "\n",
      "For 2-D arrays it is the matrix product:\n",
      "\n",
      ">>> a = [[1, 0], [0, 1]]\n",
      ">>> b = [[4, 1], [2, 2]]\n",
      ">>> np.dot(a, b)\n",
      "array([[4, 1],\n",
      "       [2, 2]])\n",
      "\n",
      ">>> a = np.arange(3*4*5*6).reshape((3,4,5,6))\n",
      ">>> b = np.arange(3*4*5*6)[::-1].reshape((5,4,6,3))\n",
      ">>> np.dot(a, b)[2,3,2,1,2,2]\n",
      "499128\n",
      ">>> sum(a[2,3,2,:] * b[1,2,:,2])\n",
      "499128\n"
     ]
    }
   ],
   "source": [
    "np.info(np.dot)"
   ]
  },
  {
   "cell_type": "markdown",
   "metadata": {},
   "source": [
    "### Create a matrix"
   ]
  },
  {
   "cell_type": "code",
   "execution_count": 6,
   "metadata": {},
   "outputs": [
    {
     "name": "stdout",
     "output_type": "stream",
     "text": [
      "Matrix:\n",
      " [[ 5  6  7]\n",
      " [ 8  9 10]\n",
      " [11 12 13]]\n",
      "Shape:  (3, 3)\n"
     ]
    }
   ],
   "source": [
    "x_matrix = np.arange(5,14).reshape(3,3)\n",
    "print(\"Matrix:\\n\", x_matrix)\n",
    "print(\"Shape: \", x_matrix.shape)"
   ]
  },
  {
   "cell_type": "code",
   "execution_count": 7,
   "metadata": {},
   "outputs": [
    {
     "name": "stdout",
     "output_type": "stream",
     "text": [
      "new_x:\n",
      " [[0 0 0 0 0]\n",
      " [0 0 0 0 0]]\n",
      "shape:  (2, 5)\n"
     ]
    }
   ],
   "source": [
    "new_x = x.reshape(2,5)\n",
    "print(\"new_x:\\n\", new_x)\n",
    "print(\"shape: \", new_x.shape)"
   ]
  },
  {
   "cell_type": "markdown",
   "metadata": {},
   "source": [
    "Now Lets create an identity matrix"
   ]
  },
  {
   "cell_type": "code",
   "execution_count": 8,
   "metadata": {},
   "outputs": [
    {
     "name": "stdout",
     "output_type": "stream",
     "text": [
      "Identity matrix:\n",
      " [[1. 0. 0. 0. 0.]\n",
      " [0. 1. 0. 0. 0.]\n",
      " [0. 0. 1. 0. 0.]\n",
      " [0. 0. 0. 1. 0.]\n",
      " [0. 0. 0. 0. 1.]]\n"
     ]
    }
   ],
   "source": [
    "identity_matrix = np.eye(5)\n",
    "print(\"Identity matrix:\\n\", identity_matrix)"
   ]
  },
  {
   "cell_type": "markdown",
   "metadata": {},
   "source": [
    "Now lets randomize the elements"
   ]
  },
  {
   "cell_type": "code",
   "execution_count": 9,
   "metadata": {},
   "outputs": [
    {
     "name": "stdout",
     "output_type": "stream",
     "text": [
      "[[[0.38784717 0.28632663 0.62716804]\n",
      "  [0.03719529 0.1165078  0.32438597]\n",
      "  [0.69045049 0.76388666 0.89089628]]\n",
      "\n",
      " [[0.548116   0.26255383 0.07095688]\n",
      "  [0.51827822 0.97364918 0.26646481]\n",
      "  [0.89065578 0.26715992 0.29576837]]\n",
      "\n",
      " [[0.17168495 0.75409874 0.9956962 ]\n",
      "  [0.44269765 0.4838447  0.78139216]\n",
      "  [0.60876179 0.23788894 0.58401887]]]\n"
     ]
    }
   ],
   "source": [
    "x = np.random.random((3,3,3)) \n",
    "print(x)"
   ]
  },
  {
   "cell_type": "markdown",
   "metadata": {},
   "source": [
    "Get the max and min value in that 3D matrix"
   ]
  },
  {
   "cell_type": "code",
   "execution_count": 10,
   "metadata": {},
   "outputs": [
    {
     "name": "stdout",
     "output_type": "stream",
     "text": [
      "Min_value: 0.037195292895982446\n",
      "Max_value: 0.9956961996206188\n"
     ]
    }
   ],
   "source": [
    "print(f\"Min_value: {x.min()}\\nMax_value: {x.max()}\")"
   ]
  },
  {
   "cell_type": "markdown",
   "metadata": {},
   "source": [
    "Create a 10 x 10 array with 1 on the border and 0 inside"
   ]
  },
  {
   "cell_type": "code",
   "execution_count": 11,
   "metadata": {},
   "outputs": [
    {
     "name": "stdout",
     "output_type": "stream",
     "text": [
      "Answer:\n",
      "[[1. 1. 1. 1. 1. 1. 1. 1. 1. 1.]\n",
      " [1. 0. 0. 0. 0. 0. 0. 0. 0. 1.]\n",
      " [1. 0. 0. 0. 0. 0. 0. 0. 0. 1.]\n",
      " [1. 0. 0. 0. 0. 0. 0. 0. 0. 1.]\n",
      " [1. 0. 0. 0. 0. 0. 0. 0. 0. 1.]\n",
      " [1. 0. 0. 0. 0. 0. 0. 0. 0. 1.]\n",
      " [1. 0. 0. 0. 0. 0. 0. 0. 0. 1.]\n",
      " [1. 0. 0. 0. 0. 0. 0. 0. 0. 1.]\n",
      " [1. 0. 0. 0. 0. 0. 0. 0. 0. 1.]\n",
      " [1. 1. 1. 1. 1. 1. 1. 1. 1. 1.]]\n"
     ]
    }
   ],
   "source": [
    "answer = np.ones(100).reshape(10,10)\n",
    "answer[1:-1, 1:-1] = 0\n",
    "print(f\"Answer:\\n{answer}\")"
   ]
  },
  {
   "cell_type": "code",
   "execution_count": 12,
   "metadata": {},
   "outputs": [
    {
     "name": "stdout",
     "output_type": "stream",
     "text": [
      "x:\n",
      " [[0.94832512 0.40079536 0.24797745]\n",
      " [0.10666379 0.92979694 0.38779208]\n",
      " [0.06584949 0.16590619 0.70378903]]\n",
      "y:\n",
      " [[0.20343333 0.86955103 0.47060159]\n",
      " [0.81087136 0.89126939 0.31432925]\n",
      " [0.12593359 0.94383726 0.60560478]]\n",
      "addition:\n",
      " [[1.15175845 1.27034639 0.71857904]\n",
      " [0.91753516 1.82106633 0.70212133]\n",
      " [0.19178309 1.10974345 1.30939381]]\n"
     ]
    }
   ],
   "source": [
    "x = np.random.random((3,3))\n",
    "y = np.random.random((3,3))\n",
    "\n",
    "z =np.add(x,y)\n",
    "print(\"x:\\n\", x)\n",
    "print(\"y:\\n\", y)\n",
    "print(\"addition:\\n\",z)"
   ]
  },
  {
   "cell_type": "code",
   "execution_count": 13,
   "metadata": {},
   "outputs": [
    {
     "name": "stdout",
     "output_type": "stream",
     "text": [
      "dot product:\n",
      "[[0.54914311 1.41588407 0.72244134]\n",
      " [0.82448074 1.28746177 0.57730726]\n",
      " [0.23655524 0.86938891 0.50935604]]\n"
     ]
    }
   ],
   "source": [
    "print(f\"dot product:\\n{np.dot(x,y)}\")"
   ]
  }
 ],
 "metadata": {
  "kernelspec": {
   "display_name": "Python 3",
   "language": "python",
   "name": "python3"
  },
  "language_info": {
   "codemirror_mode": {
    "name": "ipython",
    "version": 3
   },
   "file_extension": ".py",
   "mimetype": "text/x-python",
   "name": "python",
   "nbconvert_exporter": "python",
   "pygments_lexer": "ipython3",
   "version": "3.6.5"
  }
 },
 "nbformat": 4,
 "nbformat_minor": 2
}
