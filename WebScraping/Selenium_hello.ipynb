{
 "cells": [
  {
   "cell_type": "markdown",
   "metadata": {},
   "source": [
    "# Selenium"
   ]
  },
  {
   "cell_type": "code",
   "execution_count": 11,
   "metadata": {},
   "outputs": [],
   "source": [
    "from selenium import webdriver\n",
    "import csv"
   ]
  },
  {
   "cell_type": "markdown",
   "metadata": {},
   "source": [
    "Open chrome and navigate to the webpage"
   ]
  },
  {
   "cell_type": "code",
   "execution_count": 31,
   "metadata": {},
   "outputs": [],
   "source": [
    "driver = webdriver.Chrome()\n",
    "\n",
    "# driver.get('http://econpy.pythonanywhere.com/ex/001.html')"
   ]
  },
  {
   "cell_type": "markdown",
   "metadata": {},
   "source": [
    "Extract list of buyers and prices based on xpath"
   ]
  },
  {
   "cell_type": "code",
   "execution_count": 8,
   "metadata": {},
   "outputs": [],
   "source": [
    "buyers = driver.find_elements_by_xpath('//div[@title=\"buyer-name\"]')\n",
    "prices = driver.find_elements_by_xpath('//span[@class=\"item-price\"]')"
   ]
  },
  {
   "cell_type": "markdown",
   "metadata": {},
   "source": [
    "## Crawling from a single page"
   ]
  },
  {
   "cell_type": "code",
   "execution_count": 71,
   "metadata": {},
   "outputs": [
    {
     "name": "stdout",
     "output_type": "stream",
     "text": [
      "Stella Constellation $25.00\n",
      "Lee Derhosen $8.49\n",
      "Stan Dupp $15.04\n",
      "Hammond Ecks $17.14\n",
      "Fanny Farmer $15.68\n",
      "Golda Fish $10.60\n",
      "Shirley U. Geste $14.98\n",
      "Lou Gubrious $8.99\n",
      "Beverly Hills $20.74\n",
      "Castor Hoyle $25.95\n",
      "Bella Katt $17.98\n",
      "Al Lergy $4.99\n",
      "Ida Lowers $8.49\n",
      "Pete Moss $15.36\n",
      "Rhoda Mule $9.89\n",
      "Missy Perriad $15.60\n",
      "Carolina Rice $28.12\n",
      "Anna Septic $19.97\n",
      "Cass Tigate $25.70\n",
      "Val Voline $26.28\n"
     ]
    }
   ],
   "source": [
    "num_page_items = len(buyers)\n",
    "for i in range(num_page_items):\n",
    "    print(buyers[i].text + \" \" + prices[i].text)\n",
    "driver.close()"
   ]
  },
  {
   "cell_type": "markdown",
   "metadata": {},
   "source": [
    "## Crawling through multiple pages"
   ]
  },
  {
   "cell_type": "code",
   "execution_count": 23,
   "metadata": {},
   "outputs": [],
   "source": [
    "MAX_PAGE_NUM = 5\n",
    "MAX_PAGE_DIG = 3"
   ]
  },
  {
   "cell_type": "markdown",
   "metadata": {},
   "source": [
    "Setting up a CSV file with headers"
   ]
  },
  {
   "cell_type": "code",
   "execution_count": 72,
   "metadata": {},
   "outputs": [],
   "source": [
    "with open('results.csv', 'w') as f:\n",
    "    f.write(\"Buyers, Price \\n\")"
   ]
  },
  {
   "cell_type": "code",
   "execution_count": 66,
   "metadata": {},
   "outputs": [],
   "source": [
    "buyers, prices = [], []\n",
    "all_buyers, all_prices = [], []\n",
    "driver = webdriver.Chrome()\n",
    "for i in range(1, MAX_PAGE_NUM+ 1):\n",
    "    page_num = (MAX_PAGE_DIG - len(str(i))) * \"0\" + str(i)\n",
    "    url = 'http://econpy.pythonanywhere.com/ex/' + page_num + \".html\"\n",
    "    # passing the url to driver\n",
    "    driver.get(url)\n",
    "    buyers = (driver.find_elements_by_xpath('//div[@title=\"buyer-name\"]'))\n",
    "    prices = (driver.find_elements_by_xpath('//span[@class=\"item-price\"]'))\n",
    "    num_items = len(buyers)\n",
    "    \n",
    "    for i in range(num_items):\n",
    "        all_buyers.append(buyers[i].text)\n",
    "        all_prices.append(prices[i].text)"
   ]
  },
  {
   "cell_type": "code",
   "execution_count": 82,
   "metadata": {},
   "outputs": [],
   "source": [
    "with open('results.csv', 'w') as f:\n",
    "    for i in range(num_items * MAX_PAGE_NUM):\n",
    "            f.write(all_buyers[i] + \",\" + all_prices[i] + \"\\n\")"
   ]
  }
 ],
 "metadata": {
  "kernelspec": {
   "display_name": "Python 3",
   "language": "python",
   "name": "python3"
  },
  "language_info": {
   "codemirror_mode": {
    "name": "ipython",
    "version": 3
   },
   "file_extension": ".py",
   "mimetype": "text/x-python",
   "name": "python",
   "nbconvert_exporter": "python",
   "pygments_lexer": "ipython3",
   "version": "3.6.5"
  }
 },
 "nbformat": 4,
 "nbformat_minor": 2
}
