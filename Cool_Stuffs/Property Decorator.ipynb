{
 "cells": [
  {
   "cell_type": "markdown",
   "metadata": {},
   "source": [
    "# Property decorator"
   ]
  },
  {
   "cell_type": "code",
   "execution_count": 1,
   "metadata": {},
   "outputs": [],
   "source": [
    "class Student:\n",
    "    def __init__(self, name, marks):\n",
    "        self.name = name\n",
    "        self.marks = marks\n",
    "        self.print_stuff = self.name + ' got ' + str(self.marks) + ' out of 100 marks.'\n",
    "    \n",
    "    "
   ]
  },
  {
   "cell_type": "code",
   "execution_count": 2,
   "metadata": {},
   "outputs": [
    {
     "data": {
      "text/plain": [
       "'Soum got 89 out of 100 marks.'"
      ]
     },
     "execution_count": 2,
     "metadata": {},
     "output_type": "execute_result"
    }
   ],
   "source": [
    "student_1 = Student('Soum', 89)\n",
    "student_1.print_stuff"
   ]
  },
  {
   "cell_type": "code",
   "execution_count": 3,
   "metadata": {},
   "outputs": [
    {
     "name": "stdout",
     "output_type": "stream",
     "text": [
      "Shon\n",
      "Soum got 89 out of 100 marks.\n"
     ]
    }
   ],
   "source": [
    "student_1.name = \"Shon\"\n",
    "print(student_1.name)\n",
    "print(student_1.print_stuff)"
   ]
  },
  {
   "cell_type": "markdown",
   "metadata": {},
   "source": [
    "The value inside <i>print_stuff</i> remains unchanged. To solve that lets define a method"
   ]
  },
  {
   "cell_type": "code",
   "execution_count": 4,
   "metadata": {},
   "outputs": [
    {
     "name": "stdout",
     "output_type": "stream",
     "text": [
      "Shon\n",
      "Shon got 89 out of 100 marks.\n"
     ]
    }
   ],
   "source": [
    "class Student:\n",
    "    def __init__(self, name, marks):\n",
    "        self.name = name\n",
    "        self.marks = marks\n",
    "        \n",
    "    def print_stuff(self):\n",
    "        return self.name + ' got ' + str(self.marks) + ' out of 100 marks.'\n",
    "    \n",
    "student_1 = Student('Soum', 89)\n",
    "student_1.print_stuff\n",
    "\n",
    "student_1.name = \"Shon\"\n",
    "print(student_1.name)\n",
    "print(student_1.print_stuff())\n"
   ]
  },
  {
   "cell_type": "markdown",
   "metadata": {},
   "source": [
    "Now with this bug fixed we have another problem. The attribute print_stuff is no longer present, it has become a method named print_stuff(). And we need to change print_stuff attribute with print_stuff() method everywhere. Say there are many lines of code then it will be difficult to change it."
   ]
  },
  {
   "cell_type": "markdown",
   "metadata": {},
   "source": [
    "Now we solve this problem in pythonic way by using the <i>property</i> decorator."
   ]
  },
  {
   "cell_type": "code",
   "execution_count": 5,
   "metadata": {},
   "outputs": [
    {
     "name": "stdout",
     "output_type": "stream",
     "text": [
      "Shon\n",
      "Shon got 89 out of 100 marks.\n"
     ]
    }
   ],
   "source": [
    "class Student:\n",
    "    def __init__(self, name, marks):\n",
    "        self.name = name\n",
    "        self.marks = marks\n",
    "        \n",
    "    @property\n",
    "    def print_stuff(self):\n",
    "        return self.name + ' got ' + str(self.marks) + ' out of 100 marks.'\n",
    "    \n",
    "student_1 = Student('Soum', 89)\n",
    "student_1.print_stuff\n",
    "\n",
    "student_1.name = \"Shon\"\n",
    "print(student_1.name)\n",
    "print(student_1.print_stuff) # Here we dont have to call the method\n"
   ]
  }
 ],
 "metadata": {
  "kernelspec": {
   "display_name": "Python 3",
   "language": "python",
   "name": "python3"
  },
  "language_info": {
   "codemirror_mode": {
    "name": "ipython",
    "version": 3
   },
   "file_extension": ".py",
   "mimetype": "text/x-python",
   "name": "python",
   "nbconvert_exporter": "python",
   "pygments_lexer": "ipython3",
   "version": "3.6.8"
  }
 },
 "nbformat": 4,
 "nbformat_minor": 2
}
